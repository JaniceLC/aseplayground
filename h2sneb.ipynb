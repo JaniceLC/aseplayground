{
 "cells": [
  {
   "cell_type": "code",
   "execution_count": 35,
   "metadata": {},
   "outputs": [],
   "source": [
    "import os\n",
    "mydir='/Users/l-c/Desktop/ABCluster-MacOSX/H2S10/h2s10-LM/'"
   ]
  },
  {
   "cell_type": "code",
   "execution_count": 43,
   "metadata": {},
   "outputs": [],
   "source": [
    "from ase import Atoms, io\n",
    "from ase import units\n",
    "from math import cos, sin, pi\n",
    "from ase.calculators.tip4p import TIP4P, epsilon0, sigma0, rOH, angleHOH\n",
    "from ase.constraints import FixInternals\n",
    "from ase.neb import NEB\n",
    "from ase.optimize import MDMin, BFGS,LBFGS\n",
    "from ase.optimize.basin_mul import BasinHoppingm\n",
    "import pandas as pd\n",
    "import numpy as np\n",
    "from tools.h2s_cluster import h2scluster\n",
    "from tools.h2s_cluster import add_const\n",
    "import os\n",
    "import argparse\n",
    "import math \n"
   ]
  },
  {
   "cell_type": "code",
   "execution_count": 44,
   "metadata": {},
   "outputs": [
    {
     "data": {
      "text/plain": [
       "200"
      ]
     },
     "execution_count": 44,
     "metadata": {},
     "output_type": "execute_result"
    }
   ],
   "source": [
    "from os import listdir\n",
    "def list_of_files(dir_name, suffix):\n",
    "    return [f for f in listdir(dir_name) if f.endswith('.' + suffix)]\n",
    "# load minima \n",
    "#ftraj = args.lm \n",
    "\n",
    "minima = list_of_files(mydir, 'xyz')\n",
    "nminima = len(minima)\n",
    "nminima"
   ]
  },
  {
   "cell_type": "code",
   "execution_count": 45,
   "metadata": {},
   "outputs": [],
   "source": [
    "LM = {}\n",
    "for mini in minima:\n",
    "    LM[mini[:-4]]= io.read(mydir+mini)\n",
    "for lm in LM.values():\n",
    "    add_const(lm)\n"
   ]
  },
  {
   "cell_type": "code",
   "execution_count": 47,
   "metadata": {},
   "outputs": [
    {
     "name": "stdout",
     "output_type": "stream",
     "text": [
      "# minima used:  50\n"
     ]
    }
   ],
   "source": [
    "\n",
    "sep = math.floor(nminima/50)\n",
    "minima=minima[-1::-sep]\n",
    "nminima = len(minima)\n",
    "print('# minima used: ', nminima)\n",
    "LM = {}\n",
    "for mini in minima:\n",
    "    LM[mini[:-4]]= io.read(mydir+mini)\n",
    "for lm in LM.values():\n",
    "    add_const(lm)\n"
   ]
  },
  {
   "cell_type": "code",
   "execution_count": 49,
   "metadata": {},
   "outputs": [
    {
     "name": "stdout",
     "output_type": "stream",
     "text": [
      "    m1   m2   Ed images\n",
      "0  148   28  NaN    NaN\n",
      "1  146  111  NaN    NaN\n",
      "2   91  148  NaN    NaN\n",
      "3   97   79  NaN    NaN\n",
      "4    7  179  NaN    NaN\n"
     ]
    }
   ],
   "source": [
    "\n",
    "import itertools\n",
    "transition=pd.DataFrame(columns=['m1', 'm2', 'Ed', 'images'])\n",
    "lmlist=LM.keys()\n",
    "comb = list(itertools.product(lmlist, lmlist))\n",
    "comb =[list(e) for e in set(frozenset(d) for d in comb)]\n",
    "dcomb = []\n",
    "for i in comb:\n",
    "    if len(i)==2:\n",
    "        dcomb.append(i)\n",
    "\n",
    "dcomb=np.array(dcomb)\n",
    "transition['m1'] = dcomb[:, 0]\n",
    "#transition['m1']= transition['m1'].apply(lambda x: int(x))\n",
    "transition['m2'] = dcomb[:, 1]\n",
    "#transition['m2']= transition['m2'].apply(lambda x: int(x))\n",
    "transition = transition[transition['m1']!=transition['m2']]\n",
    "print(transition.head())\n",
    "npdf=transition.values\n",
    "\n",
    "\n",
    "\n",
    "########### neb \n",
    "import signal\n",
    "class TimedOutExc(Exception):\n",
    "    pass\n",
    "\n",
    "def deadline(timeout, *args):\n",
    "    def decorate(f):\n",
    "        def handler(signum, frame):\n",
    "            raise TimedOutExc()\n",
    "\n",
    "        def new_f(*args):\n",
    "            signal.signal(signal.SIGALRM, handler)\n",
    "            signal.alarm(timeout)\n",
    "            return f(*args)\n",
    "            signal.alarm(0)\n",
    "\n",
    "        new_f.__name__ = f.__name__\n",
    "        return new_f\n",
    "    return decorate\n",
    "\n",
    "@deadline(50)\n",
    "def optimize(neb=\"\", name=''):\n",
    "    optimizer = FIRE(neb, trajectory=name+'.traj')\n",
    "    optimizer.run(fmax=100000)\n",
    "    optimizer.run(fmax=50000)\n",
    "    optimizer.run(fmax=10000)\n",
    "    optimizer.run(fmax=5000)\n",
    "    optimizer.run(fmax=1000)\n",
    "    optimizer.run(fmax=500)\n",
    "    optimizer.run(fmax=100)\n",
    "    optimizer.run(fmax=50)\n",
    "    optimizer.run(fmax=10)\n",
    "    optimizer.run(fmax=0.5)\n",
    "    optimizer.run(fmax=0.1)\n",
    "    optimizer.run(fmax=0.09)\n",
    "    optimizer.run(fmax=0.07)\n",
    "    optimizer.run(fmax=0.05)\n"
   ]
  },
  {
   "cell_type": "code",
   "execution_count": null,
   "metadata": {},
   "outputs": [],
   "source": [
    "\n",
    "from ase.neb import NEBTools\n",
    "from ase.io import read\n",
    "def saddlepoint(min1, min2, name):\n",
    "    images=[LM[min1]]\n",
    "    images += [LM[min1].copy() for i in range(3)]\n",
    "    images += [LM[min2]]\n",
    "    for image in images:\n",
    "        image.set_calculator(TIP4P())\n",
    "        add_const(image)\n",
    "    neb = NEB(images, climb=True, parallel=True) \n",
    "    try:\n",
    "        neb.interpolate()\n",
    "    except:\n",
    "        try:\n",
    "            print(\"try idpp interpolate\")\n",
    "            neb.interpolate(method=\"idpp\")\n",
    "        except:\n",
    "            return\n",
    "    optimize(neb, name)\n",
    "ts = 'h2s10_ts'\n",
    "os.mkdir(ts) \n",
    "records=0\n",
    "for line in npdf:\n",
    "    records+=1\n",
    "    try:\n",
    "        line[3]=line[0]+'_'+line[1]\n",
    "        saddlepoint(line[0], line[1], ts+ \"/\"+line[3])\n",
    "    except:\n",
    "        print(line[0], line[1], \"fail\")\n",
    "        continue\n",
    "transition=pd.DataFrame(npdf, columns=['m1', 'm2', 'Ed', 'images'])\n",
    "transition.to_csv(ts+'.csv', index=False)\n",
    "\n"
   ]
  },
  {
   "cell_type": "code",
   "execution_count": null,
   "metadata": {},
   "outputs": [],
   "source": []
  }
 ],
 "metadata": {
  "kernelspec": {
   "display_name": "ase",
   "language": "python",
   "name": "ase"
  },
  "language_info": {
   "codemirror_mode": {
    "name": "ipython",
    "version": 3
   },
   "file_extension": ".py",
   "mimetype": "text/x-python",
   "name": "python",
   "nbconvert_exporter": "python",
   "pygments_lexer": "ipython3",
   "version": "3.7.4"
  }
 },
 "nbformat": 4,
 "nbformat_minor": 2
}
